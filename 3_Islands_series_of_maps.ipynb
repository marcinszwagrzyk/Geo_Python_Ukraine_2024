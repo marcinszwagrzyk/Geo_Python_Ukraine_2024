{
 "cells": [
  {
   "cell_type": "markdown",
   "metadata": {},
   "source": [
    "Python automation of map plotting"
   ]
  },
  {
   "cell_type": "code",
   "execution_count": 12,
   "metadata": {},
   "outputs": [],
   "source": [
    "import geopandas as gpd\n",
    "import matplotlib.pyplot as plt\n",
    "import warnings\n",
    "warnings.filterwarnings(\"ignore\")  # Silence some warnings"
   ]
  },
  {
   "cell_type": "markdown",
   "metadata": {},
   "source": [
    "Resources\n",
    "- https://gkhub.earthobservations.org/records/5wg96-bvv84?package=7yjze-2g558"
   ]
  },
  {
   "cell_type": "code",
   "execution_count": 13,
   "metadata": {},
   "outputs": [],
   "source": [
    "import os\n",
    "os.chdir(r'd:\\git20\\GeoPython_Ukraine2024')"
   ]
  },
  {
   "cell_type": "code",
   "execution_count": 14,
   "metadata": {},
   "outputs": [
    {
     "data": {
      "text/html": [
       "<div>\n",
       "<style scoped>\n",
       "    .dataframe tbody tr th:only-of-type {\n",
       "        vertical-align: middle;\n",
       "    }\n",
       "\n",
       "    .dataframe tbody tr th {\n",
       "        vertical-align: top;\n",
       "    }\n",
       "\n",
       "    .dataframe thead th {\n",
       "        text-align: right;\n",
       "    }\n",
       "</style>\n",
       "<table border=\"1\" class=\"dataframe\">\n",
       "  <thead>\n",
       "    <tr style=\"text-align: right;\">\n",
       "      <th></th>\n",
       "      <th>OBJECTID_1</th>\n",
       "      <th>Name_USGSO</th>\n",
       "      <th>Plate</th>\n",
       "      <th>USGS_ISID</th>\n",
       "      <th>NEAR_FID</th>\n",
       "      <th>NEAR_DIST</th>\n",
       "      <th>ALL_Uniq</th>\n",
       "      <th>Linework_S</th>\n",
       "      <th>Meaning_AL</th>\n",
       "      <th>ID_GID</th>\n",
       "      <th>...</th>\n",
       "      <th>ChangeRef</th>\n",
       "      <th>Shape_Leng</th>\n",
       "      <th>IslandArea</th>\n",
       "      <th>IslandCoas</th>\n",
       "      <th>Area_Geode</th>\n",
       "      <th>Coast_Geod</th>\n",
       "      <th>Shape_Le_1</th>\n",
       "      <th>Shape_Area</th>\n",
       "      <th>geometry</th>\n",
       "      <th>area</th>\n",
       "    </tr>\n",
       "  </thead>\n",
       "  <tbody>\n",
       "    <tr>\n",
       "      <th>7</th>\n",
       "      <td>2877</td>\n",
       "      <td>Sicily</td>\n",
       "      <td>Africa</td>\n",
       "      <td>318901</td>\n",
       "      <td>226128</td>\n",
       "      <td>0.0</td>\n",
       "      <td>273768</td>\n",
       "      <td>USGS: Sayre et al. 2018</td>\n",
       "      <td>USGS poly had WCMC poly intersect/overlap</td>\n",
       "      <td>239499.0</td>\n",
       "      <td>...</td>\n",
       "      <td>NaN</td>\n",
       "      <td>1.191976e+06</td>\n",
       "      <td>25498.341449</td>\n",
       "      <td>1191.975839</td>\n",
       "      <td>25454.283083</td>\n",
       "      <td>1190.178528</td>\n",
       "      <td>1.191976e+06</td>\n",
       "      <td>2.549834e+10</td>\n",
       "      <td>POLYGON ((1364610.770 4095619.343, 1364624.585...</td>\n",
       "      <td>2.438564e+10</td>\n",
       "    </tr>\n",
       "    <tr>\n",
       "      <th>6</th>\n",
       "      <td>2873</td>\n",
       "      <td>Sardinia</td>\n",
       "      <td>Eurasia</td>\n",
       "      <td>318897</td>\n",
       "      <td>225976</td>\n",
       "      <td>0.0</td>\n",
       "      <td>273764</td>\n",
       "      <td>USGS: Sayre et al. 2018</td>\n",
       "      <td>USGS poly had WCMC poly intersect/overlap</td>\n",
       "      <td>239347.0</td>\n",
       "      <td>...</td>\n",
       "      <td>NaN</td>\n",
       "      <td>1.453380e+06</td>\n",
       "      <td>23826.572993</td>\n",
       "      <td>1453.379616</td>\n",
       "      <td>23799.014515</td>\n",
       "      <td>1451.665802</td>\n",
       "      <td>1.453380e+06</td>\n",
       "      <td>2.382657e+10</td>\n",
       "      <td>POLYGON ((740614.637 4176073.394, 740545.434 4...</td>\n",
       "      <td>2.323869e+10</td>\n",
       "    </tr>\n",
       "    <tr>\n",
       "      <th>8</th>\n",
       "      <td>2904</td>\n",
       "      <td>Cyprus</td>\n",
       "      <td>Anatolia</td>\n",
       "      <td>318928</td>\n",
       "      <td>227074</td>\n",
       "      <td>0.0</td>\n",
       "      <td>273795</td>\n",
       "      <td>USGS: Sayre et al. 2018</td>\n",
       "      <td>USGS poly had WCMC poly intersect/overlap</td>\n",
       "      <td>240763.0</td>\n",
       "      <td>...</td>\n",
       "      <td>NaN</td>\n",
       "      <td>7.537467e+05</td>\n",
       "      <td>9283.519703</td>\n",
       "      <td>753.746689</td>\n",
       "      <td>9262.226924</td>\n",
       "      <td>757.314325</td>\n",
       "      <td>7.537467e+05</td>\n",
       "      <td>9.283520e+09</td>\n",
       "      <td>POLYGON ((3071979.179 3817772.410, 3071982.627...</td>\n",
       "      <td>8.706992e+09</td>\n",
       "    </tr>\n",
       "  </tbody>\n",
       "</table>\n",
       "<p>3 rows × 25 columns</p>\n",
       "</div>"
      ],
      "text/plain": [
       "   OBJECTID_1 Name_USGSO     Plate  USGS_ISID  NEAR_FID  NEAR_DIST  ALL_Uniq  \\\n",
       "7        2877     Sicily    Africa     318901    226128        0.0    273768   \n",
       "6        2873   Sardinia   Eurasia     318897    225976        0.0    273764   \n",
       "8        2904     Cyprus  Anatolia     318928    227074        0.0    273795   \n",
       "\n",
       "                Linework_S                                 Meaning_AL  \\\n",
       "7  USGS: Sayre et al. 2018  USGS poly had WCMC poly intersect/overlap   \n",
       "6  USGS: Sayre et al. 2018  USGS poly had WCMC poly intersect/overlap   \n",
       "8  USGS: Sayre et al. 2018  USGS poly had WCMC poly intersect/overlap   \n",
       "\n",
       "     ID_GID  ... ChangeRef    Shape_Leng    IslandArea   IslandCoas  \\\n",
       "7  239499.0  ...       NaN  1.191976e+06  25498.341449  1191.975839   \n",
       "6  239347.0  ...       NaN  1.453380e+06  23826.572993  1453.379616   \n",
       "8  240763.0  ...       NaN  7.537467e+05   9283.519703   753.746689   \n",
       "\n",
       "     Area_Geode   Coast_Geod    Shape_Le_1    Shape_Area  \\\n",
       "7  25454.283083  1190.178528  1.191976e+06  2.549834e+10   \n",
       "6  23799.014515  1451.665802  1.453380e+06  2.382657e+10   \n",
       "8   9262.226924   757.314325  7.537467e+05  9.283520e+09   \n",
       "\n",
       "                                            geometry          area  \n",
       "7  POLYGON ((1364610.770 4095619.343, 1364624.585...  2.438564e+10  \n",
       "6  POLYGON ((740614.637 4176073.394, 740545.434 4...  2.323869e+10  \n",
       "8  POLYGON ((3071979.179 3817772.410, 3071982.627...  8.706992e+09  \n",
       "\n",
       "[3 rows x 25 columns]"
      ]
     },
     "execution_count": 14,
     "metadata": {},
     "output_type": "execute_result"
    }
   ],
   "source": [
    "gdf_countries = gpd.read_file(r'.\\data\\Islands_Europe.shp')\n",
    "gdf_countries = gdf_countries.to_crs('ESRI:54030')\n",
    "gdf_countries['area'] = gdf_countries.geometry.area\n",
    "gdf_countries = gdf_countries.sort_values('area', ascending=False)\n",
    "gdf_countries.head(3)"
   ]
  },
  {
   "cell_type": "code",
   "execution_count": 40,
   "metadata": {},
   "outputs": [
    {
     "data": {
      "text/plain": [
       "array(['Sicily', 'Sardinia', 'Cyprus', 'Corsica', 'Crete', 'Euboea',\n",
       "       'Majorca', 'Tenerife', 'Lesbos', 'Danube Delta', 'Fuerteventura',\n",
       "       'Gran Canaria'], dtype=object)"
      ]
     },
     "execution_count": 40,
     "metadata": {},
     "output_type": "execute_result"
    }
   ],
   "source": [
    "list_islands = gdf_countries.Name_USGSO.unique()[0:12]\n",
    "list_islands"
   ]
  },
  {
   "cell_type": "code",
   "execution_count": 48,
   "metadata": {},
   "outputs": [],
   "source": [
    "# Zdefiniowanie nowoczesnej czcionki\n",
    "nowoczesna_czcionka = {'family': 'Arial', 'weight': 'normal', 'size': 8}\n"
   ]
  },
  {
   "cell_type": "code",
   "execution_count": 49,
   "metadata": {},
   "outputs": [],
   "source": [
    "fig, axs = plt.subplots(int(len(list_islands)/4), 4, figsize=(12,(len(list_islands)/4)*2))\n",
    "#   gridspec_kw={'hspace': 0.5})\n",
    "\n",
    "axs = axs.flatten()\n",
    "plt.rcParams['figure.facecolor'] = 'lightsteelblue'\n",
    "\n",
    "for i in range(0, len(list_islands)):\n",
    "    gdf_cntr = gdf_countries[gdf_countries.Name_USGSO==list_islands[i]]\n",
    "    ax = axs[i]\n",
    "    range_num = 7\n",
    "\n",
    "    if i <1:\n",
    "        bounds = gdf_cntr.geometry.buffer(50_000).bounds\n",
    "        cntr_width = bounds.maxx - bounds.minx\n",
    "        cntr_hight = bounds.maxy - bounds.miny\n",
    "    \n",
    "    gdf_cntr.plot(ax=ax, color='cornsilk', linewidth=0)\n",
    "    \n",
    "    ax.axis('off')\n",
    "    ax.set_title(list_islands[i], fontdict=nowoczesna_czcionka)\n",
    "    ax.set_xlim(int(gdf_cntr.centroid.x) - int(cntr_width)/2, int(gdf_cntr.centroid.x) \\\n",
    "        + int(cntr_width)/2)\n",
    "    ax.set_ylim(int(gdf_cntr.centroid.y) - int(cntr_hight)/1.5, int(gdf_cntr.centroid.y) \\\n",
    "        + int(cntr_hight)/1.5)\n",
    "\n",
    "# plt.tight_layout()"
   ]
  },
  {
   "cell_type": "code",
   "execution_count": null,
   "metadata": {},
   "outputs": [],
   "source": [
    "# bufory\n",
    "    # alpha = 0.8\n",
    "    # for buf_num in range(0, range_num):\n",
    "    #     alpha = alpha - 0.1\n",
    "    #     gdf_cntr.geometry.buffer(buf_num ** 2 * 1000).boundary.plot(ax=ax, alpha=alpha, \n",
    "    #                                                             color='steelblue', linewidth=0.5)"
   ]
  },
  {
   "cell_type": "code",
   "execution_count": 7,
   "metadata": {},
   "outputs": [],
   "source": [
    "# # test kolorow\n",
    "# plt.rcParams['figure.facecolor'] = 'lightsteelblue'\n",
    "# # brudnopis - budory i inne\n",
    "# gdf_cntr = gdf_countries[gdf_countries.Name_USGSO=='Cyprus']\n",
    "\n",
    "# # test pojedyncza mapka\n",
    "# fig, ax = plt.subplots(figsize=(3,3))\n",
    "\n",
    "# range_num = 8\n",
    "# alpha=0.8\n",
    "# for buf_num in range(0, range_num):\n",
    "#     alpha = alpha - 0.1\n",
    "#     gdf_cntr.geometry.buffer(buf_num ** 2 * 1000).boundary.plot(ax=ax, alpha=alpha, \n",
    "#                                                                     color='steelblue', linewidth=0.5)\n",
    "\n",
    "# if i <1:\n",
    "#     print(country)\n",
    "#     bounds = gdf_cntr.geometry.buffer(36_000).bounds\n",
    "#     cntr_hight = bounds.maxx - bounds.minx\n",
    "\n",
    "\n",
    "# gdf_cntr.plot(ax=ax, color='cornsilk', linewidth=0)\n",
    "\n",
    "# ax.axis('off')\n",
    "# # ax.set_title(country)\n",
    "# # ax.set_xlim(int(gdf_cntr.centroid.x) - int(cntr_hight)/2, int(gdf_cntr.centroid.x) + int(cntr_hight)/2)"
   ]
  }
 ],
 "metadata": {
  "kernelspec": {
   "display_name": "ds_airly",
   "language": "python",
   "name": "python3"
  },
  "language_info": {
   "codemirror_mode": {
    "name": "ipython",
    "version": 3
   },
   "file_extension": ".py",
   "mimetype": "text/x-python",
   "name": "python",
   "nbconvert_exporter": "python",
   "pygments_lexer": "ipython3",
   "version": "3.8.13"
  }
 },
 "nbformat": 4,
 "nbformat_minor": 2
}
