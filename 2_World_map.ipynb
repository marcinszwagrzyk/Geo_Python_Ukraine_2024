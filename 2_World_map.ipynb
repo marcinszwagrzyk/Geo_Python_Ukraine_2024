{
 "cells": [
  {
   "cell_type": "markdown",
   "metadata": {},
   "source": [
    "A World map - most popular cartogrpahic methods"
   ]
  },
  {
   "cell_type": "code",
   "execution_count": null,
   "metadata": {},
   "outputs": [],
   "source": [
    "import os\n",
    "os.chdir(r'd:\\git20\\GeoPython_Ukraine2024')\n",
    "\n",
    "import warnings \n",
    "warnings.filterwarnings('ignore')"
   ]
  },
  {
   "cell_type": "code",
   "execution_count": 1,
   "metadata": {},
   "outputs": [],
   "source": [
    "# imports "
   ]
  },
  {
   "cell_type": "markdown",
   "metadata": {},
   "source": [
    "#### resources:\n",
    "- https://geopandas.org/en/v0.9.0/docs/user_guide/mapping.html\n",
    "- https://en.wikipedia.org/wiki/List_of_countries_and_dependencies_by_population"
   ]
  },
  {
   "cell_type": "code",
   "execution_count": null,
   "metadata": {},
   "outputs": [],
   "source": [
    "# countries geodatable r'geoBoundariesCGAZ_ADM0.shp'"
   ]
  },
  {
   "cell_type": "code",
   "execution_count": 25,
   "metadata": {},
   "outputs": [],
   "source": [
    "# join tables df1.merge(df2, left_on='lkey', right_on='rkey') => gdf_cntrs_pop\n",
    "\n",
    "# reproject epsg_out = 'ESRI:54030'"
   ]
  },
  {
   "cell_type": "code",
   "execution_count": null,
   "metadata": {},
   "outputs": [],
   "source": [
    "# plot a variable on a map"
   ]
  },
  {
   "cell_type": "code",
   "execution_count": null,
   "metadata": {},
   "outputs": [],
   "source": [
    "# Calculate relative value"
   ]
  },
  {
   "cell_type": "code",
   "execution_count": null,
   "metadata": {},
   "outputs": [],
   "source": [
    "# plot relative variable"
   ]
  },
  {
   "cell_type": "code",
   "execution_count": null,
   "metadata": {},
   "outputs": [],
   "source": [
    "# graduated colors - different ways of dividing into classes\n",
    "# schemes = ['boxplot', 'equalinterval', 'fisherjenks',  'fisherjenkssampled','headtailbreaks']"
   ]
  },
  {
   "cell_type": "code",
   "execution_count": null,
   "metadata": {},
   "outputs": [],
   "source": [
    "# Graduated symbols visualisation - all centroids - are they ok? => gdf_cntrs_centr"
   ]
  },
  {
   "cell_type": "code",
   "execution_count": null,
   "metadata": {},
   "outputs": [],
   "source": [
    "# France centroid example"
   ]
  },
  {
   "cell_type": "code",
   "execution_count": 54,
   "metadata": {},
   "outputs": [],
   "source": [
    "# fix problems with the multipolygons and multicentroids; explode, sort by area and drop duplicates"
   ]
  },
  {
   "cell_type": "code",
   "execution_count": null,
   "metadata": {},
   "outputs": [],
   "source": [
    "# France example again"
   ]
  },
  {
   "cell_type": "code",
   "execution_count": null,
   "metadata": {},
   "outputs": [],
   "source": [
    "# plot graduated symbols"
   ]
  },
  {
   "cell_type": "code",
   "execution_count": null,
   "metadata": {},
   "outputs": [],
   "source": [
    "# plot semi-final map: auto assing classes and colors, graduated color and symbols"
   ]
  },
  {
   "cell_type": "code",
   "execution_count": null,
   "metadata": {},
   "outputs": [],
   "source": [
    "# better classification\n",
    "# levels = [0, 10, 25, 50, 100, 200, 1500]\n",
    "# colors = ['#ffffd4', '#fee391', '#fec44f', '#fe9929', '#d95f0e', '#993404']"
   ]
  },
  {
   "cell_type": "code",
   "execution_count": 16,
   "metadata": {},
   "outputs": [],
   "source": [
    "# show that anything - a shape or a text may be plotted on a map - and what about it?\n",
    "# ax.scatter(x,y,size,marker,color)"
   ]
  },
  {
   "cell_type": "markdown",
   "metadata": {},
   "source": [
    "Plot a great world base map"
   ]
  },
  {
   "cell_type": "code",
   "execution_count": 63,
   "metadata": {},
   "outputs": [],
   "source": [
    "epsg_out = 'ESRI:54030'\n",
    "\n",
    "from pyproj import Proj, transform\n",
    "import matplotlib.patches as patches\n",
    "outProj = Proj(epsg_out)  \n",
    "inProj = Proj('epsg:4326') \n",
    "\n",
    "def plot_labels(ax):\n",
    "    for y, x, name in zip([80, -145, -130, -130], \n",
    "                        [68, 25, -22.5, -65],  \n",
    "                        ['North Arctic Circle', 'Tropic of Cancer', \n",
    "                        'Tropic od Capicorn', 'South Arctic Circle']):\n",
    "\n",
    "        x2,y2 = transform(inProj,outProj, x, y)\n",
    "        ax.text(x2, y2, name, color='gray', fontsize=6)\n",
    "\n",
    "\n",
    "    for lon in [0, 30, 60, 90, 120, 150]:\n",
    "        for sign in [-1,1]:\n",
    "            for sign_2 in [-1,1]:\n",
    "                x2, y2 = transform(inProj,outProj, 90 * sign_2, lon * sign)\n",
    "                if sign_2 > 0:\n",
    "                    y2 = y2 + 100_000\n",
    "                else:\n",
    "                    y2 = y2 - 350_000\n",
    "                x2 = x2 - 320_000\n",
    "                ax.text(x2, y2, str(lon) + '°', color='gray', fontsize=7)\n",
    "\n",
    "\n",
    "    def zaokragl_do_wielokrotnosci_10(liczba):\n",
    "        return abs(round(liczba / 10) * 10)\n",
    "\n",
    "    for lat, x_offset in zip([-61, -31, 0, 30, 60], [300_000, 100_000, 20_000, 10_000, 10_000]):\n",
    "        x2, y2 = transform(inProj, outProj, lat, 180)\n",
    "        ax.text(x2 + x_offset, y2, str(zaokragl_do_wielokrotnosci_10(lat)) + '°', color='gray', fontsize=7)\n",
    "\n",
    "    for lat, x_offset in zip([-61, -31, 0, 30, 60], [700_000, 500_000, 300_000, 450_000, 400_000]):\n",
    "        x2, y2 = transform(inProj, outProj, lat, -180)\n",
    "        ax.text(x2 - x_offset, y2, str(zaokragl_do_wielokrotnosci_10(lat)) + '°', color='gray', fontsize=7)\n",
    "\n",
    "    return ax\n",
    "\n",
    "\n",
    "def plot_base_map():\n",
    "    # Extra layers\n",
    "    # Graticules\n",
    "    graticules = gpd.read_file(r'.\\data\\graticules_10.shp')\n",
    "    graticules_select = graticules[graticules.degrees.isin([0,30,60,90,120,150])]\n",
    "    graticules_select = graticules_select.to_crs(epsg_out)\n",
    "\n",
    "    # Oceans\n",
    "    gdf_ocean = gpd.read_file(r'.\\data\\oceans.shp')\n",
    "    gdf_ocean = gdf_ocean.to_crs(epsg_out)\n",
    "\n",
    "    # tropics\n",
    "    geo_lines = gpd.read_file(r'.\\data\\geo_lines.shp')\n",
    "    geo_lines = geo_lines.to_crs(epsg_out)\n",
    "    geo_lines = geo_lines[geo_lines.featurecla =='Circle of latitude']\n",
    "\n",
    "    # world\n",
    "    world = gpd.read_file(r'.\\data\\world.shp')\n",
    "    world = world.to_crs(epsg_out)\n",
    "\n",
    "    fig, ax = plt.subplots(figsize=(18,10))\n",
    "    gdf_ocean.plot(ax=ax, color='#bee8ff')\n",
    "    world.buffer(5_000).boundary.plot(ax=ax, color='black', linewidth=0.5)\n",
    "    world.buffer(600_000).boundary.plot(ax=ax, color='black', linewidth=1.2)\n",
    "    graticules_select.plot(ax=ax, color='gray', linewidth=0.4)\n",
    "    geo_lines.plot(ax=ax, color='gray', linewidth=0.4, linestyle='--')\n",
    "    ax.axis('off')\n",
    "    return ax\n",
    "\n",
    "\n",
    "def plot_main_map(ax, colors):\n",
    "    levels = [0, 10, 25, 50, 100, 200, 1500]\n",
    "    cmap, norm = matplotlib.colors.from_levels_and_colors(levels, colors)\n",
    "\n",
    "    gdf_cntrs_pop.plot(column='pop_relative', cmap=cmap, norm=norm, ax=ax)\n",
    "    gdf_cntrs_pop.boundary.plot(linewidth=0.2, color='gray', ax=ax)\n",
    "    gdf_cntrs_centr.plot(markersize=gdf_cntrs_centr['Population']/2_000_000,\n",
    "                                    alpha=0.7, color='gray', ax=ax)\n",
    "    return ax\n",
    "\n",
    "\n",
    "\n",
    "def plot_legend(ax, colors):\n",
    "    x_loc = -10_000_000\n",
    "    offset = 750_000\n",
    "      \n",
    "    for color, name in zip(colors, ['<10', '10-25', '25-50', '50-100', '100-200', '>200']):\n",
    "        x_loc = x_loc + offset\n",
    "        rect = patches.Rectangle((-19_500_000, x_loc), 700_000, 500_000, facecolor=color)\n",
    "        ax.text(-18_500_000, x_loc + 120_000, name, size=10)\n",
    "        ax.add_patch(rect)\n",
    "    \n",
    "    ax.text(-19_500_000, -4_700_000, 'people per sq. km', fontsize=7)\n",
    "\n",
    "    # circles \n",
    "    circle = ax.scatter(-15_800_000, x_loc - 3_200_000, s=1000, marker='o', color='gray', alpha=0.3)\n",
    "    circle = ax.scatter(-15_800_000, x_loc - 3_500_000, s=250, marker='o', color='gray', alpha=0.3)\n",
    "\n",
    "    ax.text(-14_800_000, x_loc - 2_800_000, '1000M', fontsize=10)\n",
    "    ax.text(-14_800_000,  x_loc - 3_500_000, '250M', fontsize=10)\n",
    "    return ax\n",
    "\n",
    "\n",
    "def plot_title(ax):\n",
    "    ax.text(-19_500_000, 9_000_000, 'The World', fontsize=20)\n",
    "    ax.text(-19_500_000, 8_000_000, 'Population', fontsize=14)\n",
    "    return ax\n"
   ]
  },
  {
   "cell_type": "code",
   "execution_count": null,
   "metadata": {},
   "outputs": [],
   "source": [
    "# subsequently call functions\n",
    "ax = plot_base_map()\n",
    "ax = plot_labels(ax)\n",
    "colors = ['#ffffd4', '#fee391', '#fec44f', '#fe9929', '#d95f0e', '#993404']\n",
    "ax = plot_main_map(ax, colors)\n",
    "ax = plot_legend(ax, colors)\n",
    "ax = plot_title(ax)"
   ]
  }
 ],
 "metadata": {
  "kernelspec": {
   "display_name": "Python 3 (ipykernel)",
   "language": "python",
   "name": "python3"
  },
  "language_info": {
   "codemirror_mode": {
    "name": "ipython",
    "version": 3
   },
   "file_extension": ".py",
   "mimetype": "text/x-python",
   "name": "python",
   "nbconvert_exporter": "python",
   "pygments_lexer": "ipython3",
   "version": "3.10.13"
  }
 },
 "nbformat": 4,
 "nbformat_minor": 2
}
